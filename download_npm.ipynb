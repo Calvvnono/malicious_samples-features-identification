{
 "cells": [
  {
   "cell_type": "code",
   "execution_count": 6,
   "metadata": {},
   "outputs": [],
   "source": [
    "import pandas as pd\n",
    "import numpy as np\n",
    "import matplotlib.pyplot as plt\n",
    "import warnings\n",
    "warnings.filterwarnings('ignore')\n",
    "pd.set_option('display.max_columns', None)\n",
    "pd.set_option('display.max_rows', None)"
   ]
  },
  {
   "cell_type": "code",
   "execution_count": 7,
   "metadata": {},
   "outputs": [
    {
     "data": {
      "text/html": [
       "<div>\n",
       "<style scoped>\n",
       "    .dataframe tbody tr th:only-of-type {\n",
       "        vertical-align: middle;\n",
       "    }\n",
       "\n",
       "    .dataframe tbody tr th {\n",
       "        vertical-align: top;\n",
       "    }\n",
       "\n",
       "    .dataframe thead th {\n",
       "        text-align: right;\n",
       "    }\n",
       "</style>\n",
       "<table border=\"1\" class=\"dataframe\">\n",
       "  <thead>\n",
       "    <tr style=\"text-align: right;\">\n",
       "      <th></th>\n",
       "      <th>Package Repository</th>\n",
       "      <th>Package Name</th>\n",
       "    </tr>\n",
       "  </thead>\n",
       "  <tbody>\n",
       "    <tr>\n",
       "      <th>0</th>\n",
       "      <td>NPM</td>\n",
       "      <td>URIjs-1.16.1</td>\n",
       "    </tr>\n",
       "    <tr>\n",
       "      <th>1</th>\n",
       "      <td>NPM</td>\n",
       "      <td>abbstrap-1.0.23</td>\n",
       "    </tr>\n",
       "    <tr>\n",
       "      <th>2</th>\n",
       "      <td>NPM</td>\n",
       "      <td>abs1004-axios-0.21.4</td>\n",
       "    </tr>\n",
       "    <tr>\n",
       "      <th>3</th>\n",
       "      <td>NPM</td>\n",
       "      <td>acc-strapi-1.0.0</td>\n",
       "    </tr>\n",
       "    <tr>\n",
       "      <th>4</th>\n",
       "      <td>NPM</td>\n",
       "      <td>accounting-0.4.1</td>\n",
       "    </tr>\n",
       "    <tr>\n",
       "      <th>5</th>\n",
       "      <td>NPM</td>\n",
       "      <td>actid-react-error-overlay-4.0.5</td>\n",
       "    </tr>\n",
       "    <tr>\n",
       "      <th>6</th>\n",
       "      <td>NPM</td>\n",
       "      <td>admin-lte-3.2.0</td>\n",
       "    </tr>\n",
       "    <tr>\n",
       "      <th>7</th>\n",
       "      <td>NPM</td>\n",
       "      <td>amazon-cognito-auth-js-1.3.3</td>\n",
       "    </tr>\n",
       "    <tr>\n",
       "      <th>8</th>\n",
       "      <td>NPM</td>\n",
       "      <td>analytics-node-6.0.0</td>\n",
       "    </tr>\n",
       "    <tr>\n",
       "      <th>9</th>\n",
       "      <td>NPM</td>\n",
       "      <td>angular-1.8.3</td>\n",
       "    </tr>\n",
       "  </tbody>\n",
       "</table>\n",
       "</div>"
      ],
      "text/plain": [
       "  Package Repository                     Package Name\n",
       "0                NPM                     URIjs-1.16.1\n",
       "1                NPM                  abbstrap-1.0.23\n",
       "2                NPM             abs1004-axios-0.21.4\n",
       "3                NPM                 acc-strapi-1.0.0\n",
       "4                NPM                 accounting-0.4.1\n",
       "5                NPM  actid-react-error-overlay-4.0.5\n",
       "6                NPM                  admin-lte-3.2.0\n",
       "7                NPM     amazon-cognito-auth-js-1.3.3\n",
       "8                NPM             analytics-node-6.0.0\n",
       "9                NPM                    angular-1.8.3"
      ]
     },
     "execution_count": 7,
     "metadata": {},
     "output_type": "execute_result"
    }
   ],
   "source": [
    "# 数据读取\n",
    "df = pd.read_excel('Labelled_Dataset.xlsx',sheet_name=0)\n",
    "# 取前5行查看数据\n",
    "df = df.iloc[:10,1:3]\n",
    "df"
   ]
  },
  {
   "cell_type": "code",
   "execution_count": 8,
   "metadata": {},
   "outputs": [
    {
     "name": "stdout",
     "output_type": "stream",
     "text": [
      "URIjs 1.16.1\n",
      "abbstrap 1.0.23\n",
      "abs1004-axios 0.21.4\n",
      "acc-strapi 1.0.0\n",
      "accounting 0.4.1\n",
      "actid-react-error-overlay 4.0.5\n",
      "admin-lte 3.2.0\n",
      "amazon-cognito-auth-js 1.3.3\n",
      "analytics-node 6.0.0\n",
      "angular 1.8.3\n"
     ]
    }
   ],
   "source": [
    "import subprocess\n",
    "import os\n",
    "\n",
    "# 更新 PATH 环境变量\n",
    "os.environ['PATH'] += os.pathsep + 'D:/nodejs'\n",
    "\n",
    "# 遍历每一行\n",
    "for index, row in df.iterrows():\n",
    "    package_name = row['Package Name']\n",
    "    # 分割包名和版本号\n",
    "    name = package_name.rsplit('-', 1)[0]\n",
    "    version = package_name.rsplit('-', 1)[1]\n",
    "    print(name, version)\n",
    "\n",
    "    # 下载包，下载到指定目录，如果下载失败则跳过\n",
    "    try:\n",
    "        # 使用npm命令行工具下载包\n",
    "        subprocess.run(['D:/nodejs/npm.cmd', 'pack', f'{name}@{version}'], cwd=r'F:\\git_workspace\\malicious_samples-features-identification\\npm_download')\n",
    "    except Exception as e:\n",
    "        print(f\"Failed to download package: {name}@{version}\")\n",
    "        continue\n"
   ]
  }
 ],
 "metadata": {
  "kernelspec": {
   "display_name": "jut_env",
   "language": "python",
   "name": "python3"
  },
  "language_info": {
   "codemirror_mode": {
    "name": "ipython",
    "version": 3
   },
   "file_extension": ".py",
   "mimetype": "text/x-python",
   "name": "python",
   "nbconvert_exporter": "python",
   "pygments_lexer": "ipython3",
   "version": "3.9.0"
  }
 },
 "nbformat": 4,
 "nbformat_minor": 2
}
